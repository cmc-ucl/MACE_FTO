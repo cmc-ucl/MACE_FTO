{
 "cells": [
  {
   "cell_type": "markdown",
   "id": "0",
   "metadata": {},
   "source": [
    "# TMP notebook for all things MACE and janus"
   ]
  },
  {
   "cell_type": "markdown",
   "id": "1",
   "metadata": {},
   "source": [
    "### To make descriptors\n",
    "\n",
    "janus descriptors --config descriptors.yml --struct file_name.xyz\n",
    "\n",
    "### Visualise distribution of descriptors\n",
    "\n",
    "distributions_dft.py\n",
    "\n",
    "### Custom FPS\n",
    "\n",
    "python fps_from_exyz.py file_name.xyz -k n_final_struct\n",
    "\n",
    "### Alin FPS\n",
    "\n",
    "python script/sample_split.py --n_samples 2000 --config_types random --pre AlGaN AlGaN_super3_all-descriptors.extxyz"
   ]
  },
  {
   "cell_type": "code",
   "execution_count": null,
   "id": "2",
   "metadata": {},
   "outputs": [],
   "source": [
    "%load_ext autoreload\n",
    "%reload_ext autoreload\n",
    "%autoreload 2\n",
    "\n",
    "from pymatgen.core.structure import Structure\n",
    "from pymatgen.symmetry.analyzer import SpacegroupAnalyzer\n",
    "from pymatgen.io.ase import AseAtomsAdaptor\n",
    "from ase.io import read\n",
    "from ase.data import chemical_symbols\n",
    "import copy\n",
    "import numpy as np\n",
    "import pandas as pd\n",
    "from scipy.constants import physical_constants\n",
    "HARTREE_TO_EV = physical_constants['Hartree energy in eV'][0]\n",
    "BOHR_TO_ANGSTROM = physical_constants['Bohr radius'][0] * 1e10  # Convert meters to Ångstrom\n",
    "BOHR_CUBED_TO_ANGSTROM_CUBED = BOHR_TO_ANGSTROM**3\n",
    "\n",
    "import os\n",
    "import json\n",
    "import re\n",
    "import shutil as sh\n",
    "\n",
    "from janus_core.calculations.single_point import SinglePoint\n",
    "from janus_core.calculations.geom_opt import GeomOpt\n",
    "import sys\n",
    "sys.path.append('../src')   # add src/ to Python path\n",
    "from functions import *\n",
    "from structure_generation import *\n",
    "from helper_functions import *\n",
    "from crystal_helper_functions import *\n",
    "\n",
    "current_dir = os.path.dirname(os.path.abspath(\"__file__\"))\n",
    "sys.path.append(current_dir)\n",
    "\n",
    "def vview(structure):\n",
    "    from ase.visualize import view\n",
    "    from pymatgen.io.ase import AseAtomsAdaptor\n",
    "    \n",
    "    view(AseAtomsAdaptor().get_atoms(structure))"
   ]
  },
  {
   "cell_type": "code",
   "execution_count": null,
   "id": "3",
   "metadata": {},
   "outputs": [],
   "source": []
  },
  {
   "cell_type": "code",
   "execution_count": null,
   "id": "4",
   "metadata": {},
   "outputs": [],
   "source": []
  },
  {
   "cell_type": "code",
   "execution_count": null,
   "id": "5",
   "metadata": {},
   "outputs": [],
   "source": []
  }
 ],
 "metadata": {
  "jupytext": {
   "cell_metadata_filter": "-all",
   "notebook_metadata_filter": "kernelspec,language_info"
  },
  "kernelspec": {
   "display_name": "mace_fto",
   "language": "python",
   "name": "python3"
  },
  "language_info": {
   "codemirror_mode": {
    "name": "ipython",
    "version": 3
   },
   "file_extension": ".py",
   "mimetype": "text/x-python",
   "name": "python",
   "nbconvert_exporter": "python",
   "pygments_lexer": "ipython3",
   "version": "3.11.13"
  }
 },
 "nbformat": 4,
 "nbformat_minor": 5
}
