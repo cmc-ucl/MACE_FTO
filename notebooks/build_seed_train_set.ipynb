{
 "cells": [
  {
   "cell_type": "markdown",
   "metadata": {},
   "source": [
    "# Build the seed train and test sets\n"
   ]
  },
  {
   "cell_type": "markdown",
   "metadata": {},
   "source": [
    "#### Families\n",
    "\n",
    "Initial seed name:\n",
    "\n",
    "AlGaN_333_K_F_e_md_o\n",
    "\n",
    "K = composition\n",
    "F = family (0-19)\n",
    "e = eos (0-11)\n",
    "md = MD\n",
    "o = optimisation\n",
    "\n",
    "Folder structure:\n",
    "\n",
    "supercell_size\n",
    "    |\n",
    "    -- functional r2SCAN\n",
    "        |\n",
    "        composition 7 (0,0.1,0.25,0.5,0.75,0.9,1) -> 0,5,14,27,40,49,54 Ga atoms\n",
    "            |\n",
    "            -- family (configuration) generate 20 - use 5\n",
    "                |\n",
    "                -- initial - this contains the initial structure\n",
    "                -- MD 1000 steps - select ~10\n",
    "                -- EOS (from optimised?) select N structures from the MD ones and do 10 steps \n",
    "                -- optgeom (starting from MACE optimised and save) all steps - use 1?\n",
    "\n",
    "\n",
    "So we can select the F using random split and then select a subset of structures within that group."
   ]
  },
  {
   "cell_type": "code",
   "execution_count": null,
   "metadata": {},
   "outputs": [],
   "source": [
    "%load_ext autoreload\n",
    "%reload_ext autoreload\n",
    "%autoreload 2\n",
    "\n",
    "from pymatgen.core.structure import Structure\n",
    "from pymatgen.symmetry.analyzer import SpacegroupAnalyzer\n",
    "from pymatgen.io.ase import AseAtomsAdaptor\n",
    "from ase.io import read\n",
    "from ase.data import chemical_symbols\n",
    "import copy\n",
    "import numpy as np\n",
    "import pandas as pd\n",
    "from scipy.constants import physical_constants\n",
    "HARTREE_TO_EV = physical_constants['Hartree energy in eV'][0]\n",
    "BOHR_TO_ANGSTROM = physical_constants['Bohr radius'][0] * 1e10  # Convert meters to Ångstrom\n",
    "BOHR_CUBED_TO_ANGSTROM_CUBED = BOHR_TO_ANGSTROM**3\n",
    "\n",
    "import os\n",
    "import json\n",
    "import re\n",
    "import shutil as sh\n",
    "\n",
    "from janus_core.calculations.single_point import SinglePoint\n",
    "from janus_core.calculations.geom_opt import GeomOpt\n",
    "import sys\n",
    "sys.path.append('../src')   # add src/ to Python path\n",
    "from functions import *\n",
    "from structure_generation import *\n",
    "from helper_functions import *\n",
    "from crystal_helper_functions import *\n",
    "\n",
    "current_dir = os.path.dirname(os.path.abspath(\"__file__\"))\n",
    "sys.path.append(current_dir)\n",
    "\n",
    "def vview(structure):\n",
    "    from ase.visualize import view\n",
    "    from pymatgen.io.ase import AseAtomsAdaptor\n",
    "    \n",
    "    view(AseAtomsAdaptor().get_atoms(structure))"
   ]
  },
  {
   "cell_type": "markdown",
   "metadata": {},
   "source": [
    "### AlN and GaN experimental structures"
   ]
  },
  {
   "cell_type": "code",
   "execution_count": null,
   "metadata": {},
   "outputs": [],
   "source": [
    "AlN_exp = Structure.from_file('../data/bulk_structures/experimental/AlN_experimental.cif')\n",
    "\n",
    "supercell_matrix = np.eye(3)*3\n",
    "\n",
    "AlN_333_exp = copy.deepcopy(AlN_exp)\n",
    "\n",
    "AlN_333_exp.make_supercell(supercell_matrix)\n",
    "\n",
    "AlN_333_exp.num_sites"
   ]
  },
  {
   "cell_type": "code",
   "execution_count": null,
   "metadata": {},
   "outputs": [],
   "source": [
    "GaN_exp = Structure.from_file('../data/bulk_structures/experimental/GaN_experimental.cif')\n",
    "\n",
    "supercell_matrix = np.eye(3)*3\n",
    "\n",
    "GaN_333_exp = copy.deepcopy(GaN_exp)\n",
    "\n",
    "GaN_333_exp.make_supercell(supercell_matrix)\n",
    "\n",
    "GaN_333_exp.num_sites"
   ]
  },
  {
   "cell_type": "markdown",
   "metadata": {},
   "source": [
    "## Symmetry analysis"
   ]
  },
  {
   "cell_type": "code",
   "execution_count": null,
   "metadata": {},
   "outputs": [],
   "source": [
    "atom_indices_aln_333 = get_all_configurations_pmg(AlN_333_exp)\n",
    "np.savetxt('../data/symmetry/aln_333_indices.csv',atom_indices_aln_333,delimiter=',',fmt='%d')"
   ]
  },
  {
   "cell_type": "code",
   "execution_count": null,
   "metadata": {},
   "outputs": [],
   "source": [
    "atom_indices_aln = np.genfromtxt('../data/symmetry/aln_333_indices.csv',delimiter=',').astype('int')"
   ]
  },
  {
   "cell_type": "markdown",
   "metadata": {},
   "source": [
    "## Generate SIC random structures\n",
    "\n",
    "This saves the data into a json file, I'm not sure we need it."
   ]
  },
  {
   "cell_type": "code",
   "execution_count": null,
   "metadata": {},
   "outputs": [],
   "source": [
    "active_sites=np.where(np.array(AlN_333_exp.atomic_numbers) == 13)[0]\n",
    "num_active_sites=len(active_sites)\n",
    "\n",
    "N_atom = 31\n",
    "num_families = 20\n",
    "all_config_atom_number = {}\n",
    "compositions = [0.1,0.25,0.5,0.75,0.9]\n",
    "for n,comp in enumerate(compositions):\n",
    "   \n",
    "    N_Ga = int(np.round(num_active_sites*comp))\n",
    "\n",
    "    structures_random = generate_random_structures(AlN_333_exp,atom_indices=atom_indices_aln,\n",
    "                                                   N_atoms=N_Ga,new_species=31,N_config=500,\n",
    "                                                   DFT_config=num_families,active_sites=active_sites)\n",
    "\n",
    "    atom_number_tmp = []\n",
    "    for structure in structures_random:\n",
    "        atom_number_tmp.append(list(structure.atomic_numbers))\n",
    "\n",
    "    all_config_atom_number[str(N_Ga)] = atom_number_tmp\n",
    "\n",
    "with open('../data/seed_structures/333/AlGaN_super3.json', 'w') as json_file:\n",
    "    json.dump(all_config_atom_number, json_file)"
   ]
  },
  {
   "cell_type": "code",
   "execution_count": null,
   "metadata": {
    "lines_to_next_cell": 2
   },
   "outputs": [],
   "source": [
    "with open('../data/seed_structures/333/AlGaN_super3.json', 'r', encoding='utf-8') as json_file:\n",
    "    AlGaN_super3_all_config = json.load(json_file)"
   ]
  },
  {
   "cell_type": "code",
   "execution_count": null,
   "metadata": {},
   "outputs": [],
   "source": [
    "len(AlGaN_super3_all_config['5'])"
   ]
  },
  {
   "cell_type": "code",
   "execution_count": null,
   "metadata": {},
   "outputs": [],
   "source": [
    "# Generate the Extended XYZ files\n",
    "AlN_lattice_matrix = np.round(AlN_exp.lattice.matrix[0:3], 6)\n",
    "GaN_lattice_matrix = np.round(GaN_exp.lattice.matrix[0:3], 6)"
   ]
  },
  {
   "cell_type": "code",
   "execution_count": null,
   "metadata": {},
   "outputs": [],
   "source": [
    "# Generate the Extended XYZ files\n",
    "AlN_lattice_matrix = np.round(AlN_333_exp.lattice.matrix[0:3], 6)\n",
    "GaN_lattice_matrix = np.round(GaN_333_exp.lattice.matrix[0:3], 6)\n",
    "\n",
    "\n",
    "positions = AlN_333_exp.frac_coords\n",
    "for N_atoms in AlGaN_super3_all_config.keys():\n",
    "\n",
    "    Ga_comp = int(N_atoms)/num_active_sites\n",
    "    AlGaN_lattice_matrix = (AlN_lattice_matrix*(1-Ga_comp) + GaN_lattice_matrix*Ga_comp)\n",
    "\n",
    "    folder_name = f'../data/seed_structures/333/r2SCAN/{N_atoms}Ga/initial/'\n",
    "    if not os.path.exists(folder_name):\n",
    "        os.makedirs(folder_name)\n",
    "    \n",
    "    for i,config in enumerate(AlGaN_super3_all_config[N_atoms]):\n",
    "        structure = Structure(AlGaN_lattice_matrix,config,positions) # here we use the AlN positions\n",
    "\n",
    "        write_extended_xyz(structure,os.path.join(folder_name,f'AlGaN_333_K{N_atoms}_F{i}_e0_md0_o0.xyz'),\n",
    "                           comment='initial=True md=False eos=False opt=False')"
   ]
  },
  {
   "cell_type": "markdown",
   "metadata": {},
   "source": [
    "### Concatenate files"
   ]
  },
  {
   "cell_type": "code",
   "execution_count": null,
   "metadata": {
    "lines_to_next_cell": 2
   },
   "outputs": [],
   "source": [
    "# Ensure the output folder exists\n",
    "output_file = '../data/seed_structures/333/r2SCAN/concatenated_files/initial/AlGaN_333_KX_FX_e0_md0_o0.xyz'\n",
    "\n",
    "os.makedirs(os.path.dirname(output_file), exist_ok=True)\n",
    "\n",
    "with open(output_file, 'w') as outfile:\n",
    "    for comp in compositions:\n",
    "        N_Ga = int(np.round(num_active_sites*comp)) \n",
    "        for f in range(num_families):\n",
    "            file_path = f'../data/seed_structures/333/r2SCAN/{N_Ga}Ga/initial/AlGaN_333_K{N_Ga}_F{f}_e0_md0_o0.xyz'\n",
    "        # for file_name in sorted(os.listdir(input_folder)):\n",
    "        #     if file_name.endswith(\".xyz\"):\n",
    "        #         file_path = os.path.join(input_folder, file_name)\n",
    "\n",
    "            # Read the content of the current .xyz file\n",
    "            with open(file_path, 'r') as infile:\n",
    "                content = infile.read()\n",
    "            \n",
    "            # Append content to the output file\n",
    "            outfile.write(content)"
   ]
  },
  {
   "cell_type": "markdown",
   "metadata": {},
   "source": [
    "## Convergence test - % HF"
   ]
  },
  {
   "cell_type": "markdown",
   "metadata": {},
   "source": [
    "#### AlN"
   ]
  },
  {
   "cell_type": "code",
   "execution_count": null,
   "metadata": {
    "lines_to_next_cell": 2
   },
   "outputs": [],
   "source": [
    "results = []\n",
    "\n",
    "for i in np.arange(0,26,5):\n",
    "    \n",
    "    with open(f'../data/convergence_tests/hf_exchange/Al_{i}HF.out', \"r\") as f:\n",
    "        file_content = f.readlines()\n",
    "    Al_energy = read_last_scf_energy(file_content) \n",
    "\n",
    "    with open(f'../data/convergence_tests/hf_exchange/N_{i}HF.out', \"r\") as f:\n",
    "        file_content = f.readlines()\n",
    "    N_energy = read_last_scf_energy(file_content) \n",
    "\n",
    "    with open(f'../data/convergence_tests/hf_exchange/AlN_r2scan_{i}HF.out', \"r\") as f:\n",
    "        file_content = f.readlines()\n",
    "\n",
    "    # Parse the file content\n",
    "    parsed_structures, opt_end_converged_seen = parse_crystal_output(file_content, num_atoms=4) \n",
    "    \n",
    "    if opt_end_converged_seen == True:\n",
    "        structure_tmp = parsed_structures[-1]\n",
    "        a,b,c,alpha,beta,gamma = matrix_to_lattice_params(structure_tmp['lattice_matrix'])\n",
    "        energy = structure_tmp['energy_ev']\n",
    "        formation_energy = energy-2*Al_energy-2*N_energy\n",
    "        band_gap = structure_tmp['band_gap_ev']\n",
    "\n",
    "        results.append(\n",
    "            {\n",
    "                \"%HF\": i,\n",
    "                #\"Al_energy\": Al_energy,\n",
    "                #\"Ga_energy\": Ga_energy,\n",
    "                # \"AlN_energy\": energy,\n",
    "                \"formation_energy\": formation_energy,\n",
    "                \"band_gap\": band_gap,\n",
    "                \"a\": a,\n",
    "                \"b\": b,\n",
    "                \"c\": c,\n",
    "                \"alpha\": alpha,\n",
    "                \"beta\": beta,\n",
    "                \"gamma\": gamma,\n",
    "            })\n",
    "        \n",
    "\n",
    "df = pd.DataFrame(results).set_index(\"%HF\")\n",
    "df.to_csv(\"../data/convergence_tests/hf_exchange/AlN_hf_convergence_results.csv\")\n",
    "df"
   ]
  },
  {
   "cell_type": "markdown",
   "metadata": {},
   "source": [
    "#### GaN"
   ]
  },
  {
   "cell_type": "code",
   "execution_count": null,
   "metadata": {
    "lines_to_next_cell": 2
   },
   "outputs": [],
   "source": [
    "results = []\n",
    "\n",
    "for i in np.arange(0,26,5):\n",
    "    \n",
    "    with open(f'../data/convergence_tests/hf_exchange/Ga_{i}HF.out', \"r\") as f:\n",
    "        file_content = f.readlines()\n",
    "    Ga_energy = read_last_scf_energy(file_content) \n",
    "\n",
    "    with open(f'../data/convergence_tests/hf_exchange/N_{i}HF.out', \"r\") as f:\n",
    "        file_content = f.readlines()\n",
    "    N_energy = read_last_scf_energy(file_content) \n",
    "\n",
    "    with open(f'../data/convergence_tests/hf_exchange/GaN_r2scan_{i}HF.out', \"r\") as f:\n",
    "        file_content = f.readlines()\n",
    "\n",
    "    # Parse the file content\n",
    "    parsed_structures, opt_end_converged_seen = parse_crystal_output(file_content, num_atoms=4) \n",
    "    \n",
    "    if opt_end_converged_seen == True:\n",
    "        structure_tmp = parsed_structures[-1]\n",
    "        a,b,c,alpha,beta,gamma = matrix_to_lattice_params(structure_tmp['lattice_matrix'])\n",
    "        energy = structure_tmp['energy_ev']\n",
    "        formation_energy = energy-2*Ga_energy-2*N_energy\n",
    "        band_gap = structure_tmp['band_gap_ev']\n",
    "\n",
    "        results.append(\n",
    "            {\n",
    "                \"%HF\": i,\n",
    "                #\"Al_energy\": Al_energy,\n",
    "                #\"Ga_energy\": Ga_energy,\n",
    "                # \"AlN_energy\": energy,\n",
    "                \"formation_energy\": formation_energy,\n",
    "                \"band_gap\": band_gap,\n",
    "                \"a\": a,\n",
    "                \"b\": b,\n",
    "                \"c\": c,\n",
    "                \"alpha\": alpha,\n",
    "                \"beta\": beta,\n",
    "                \"gamma\": gamma,\n",
    "            })\n",
    "        \n",
    "\n",
    "df = pd.DataFrame(results).set_index(\"%HF\")\n",
    "df.to_csv(\"../data/convergence_tests/hf_exchange/GaN_hf_convergence_results.csv\")\n",
    "df"
   ]
  },
  {
   "cell_type": "markdown",
   "metadata": {},
   "source": [
    "## Test r2SCAN vs r2SCAN0"
   ]
  },
  {
   "cell_type": "code",
   "execution_count": null,
   "metadata": {},
   "outputs": [],
   "source": [
    "random_idx = np.random.choice(np.arange(0, 21), size=12, replace=False)\n",
    "for i in [5,14,27,40,49]:\n",
    "    if i == 27:\n",
    "        for k in random_idx:\n",
    "            file = f'../data/seed_structures/333/r2SCAN/{i}Ga/initial/AlGaN_333_K{i}_F{k}_e0_md0_o0.xyz'\n",
    "            sh.copy(file,f'../data/convergence_tests/r2SCAN_vs_r2SCAN0/AlGaN_333_K{i}_F{k}_e0_md0_o0.xyz')\n",
    "    else:\n",
    "        k = np.random.randint(0,20)\n",
    "        file = f'../data/seed_structures/333/r2SCAN/{i}Ga/initial/AlGaN_333_K{i}_F{k}_e0_md0_o0.xyz'\n",
    "        sh.copy(file,f'../data/convergence_tests/r2SCAN_vs_r2SCAN0/AlGaN_333_K{i}_F{k}_e0_md0_o0.xyz')\n",
    "    \n"
   ]
  },
  {
   "cell_type": "code",
   "execution_count": null,
   "metadata": {},
   "outputs": [],
   "source": [
    "path = \"../data/convergence_tests/r2SCAN_vs_r2SCAN0\"\n",
    "xyz_files = [f for f in os.listdir(path) if f.endswith(\".xyz\")]\n",
    "\n",
    "files = []\n",
    "\n",
    "for file in xyz_files:\n",
    "    file_name = os.path.join(path,file)\n",
    "    atoms = read(file_name)\n",
    "    structure = AseAtomsAdaptor().get_structure(atoms)\n",
    "\n",
    "    full_name = file_name[:-4]+'.gui'\n",
    "    files.append(file[:-4])\n",
    "    sh.copy('../data/crystal_input_files/sp_r2scan_input.d12',\n",
    "            full_name[:-4]+'.d12')\n",
    "\n",
    "    lattice_matrix = structure.lattice.matrix\n",
    "    atomic_numbers = structure.atomic_numbers\n",
    "    cart_coords = structure.cart_coords\n",
    "\n",
    "    write_CRYSTAL_gui_from_data(lattice_matrix,atomic_numbers,\n",
    "                            cart_coords, full_name, dimensionality = 3)\n",
    "bash_script = generate_slurm_file(files)\n",
    "\n",
    "with open(\"../data/seed_structures/333/r2SCAN/5Ga/initial/slurm_file.slurm\", \"w\") as f:\n",
    "    for fn in bash_script:\n",
    "        f.write(fn)\n",
    "\n",
    "    "
   ]
  },
  {
   "cell_type": "markdown",
   "metadata": {},
   "source": [
    "## Geometry optimisation"
   ]
  },
  {
   "cell_type": "code",
   "execution_count": null,
   "metadata": {
    "lines_to_next_cell": 2
   },
   "outputs": [],
   "source": [
    "atoms = read('../data/seed_structures/333/r2SCAN/5Ga/initial/AlGaN_333_K5_F0_e0_md0_o0.xyz')\n",
    "structure = AseAtomsAdaptor().get_structure(atoms)"
   ]
  },
  {
   "cell_type": "code",
   "execution_count": null,
   "metadata": {
    "lines_to_next_cell": 2
   },
   "outputs": [],
   "source": [
    "files = []\n",
    "max_family = 4\n",
    "for comp in compositions:\n",
    "    N_Ga = int(np.round(num_active_sites*comp)) \n",
    "    for f in range(num_families):\n",
    "        atoms = read(f'../data/seed_structures/333/r2SCAN/{N_Ga}Ga/initial/AlGaN_333_K{N_Ga}_F{f}_e0_md0_o0.xyz')\n",
    "        structure = AseAtomsAdaptor().get_structure(atoms)\n",
    "\n",
    "        folder_name = f'../data/seed_structures/333/r2SCAN/{N_Ga}Ga/optgeom/'\n",
    "        file_name = f'AlGaN_333_K{N_Ga}_F{f}_e0_md0_o1.gui'\n",
    "        full_name = os.path.join(folder_name,file_name)\n",
    "        if f <= max_family:\n",
    "            files.append(full_name)\n",
    "        sh.copy('../data/crystal_input_files/fulloptg_r2scan_input.d12',\n",
    "                full_name[:-3]+'d12')\n",
    "        if not os.path.exists(folder_name):\n",
    "            os.makedirs(folder_name)\n",
    "        lattice_matrix = structure.lattice.matrix\n",
    "        atomic_numbers = structure.atomic_numbers\n",
    "        cart_coords = structure.cart_coords\n",
    "\n",
    "        write_CRYSTAL_gui_from_data(lattice_matrix,atomic_numbers,\n",
    "                                cart_coords, full_name, dimensionality = 3)\n",
    "bash_script = generate_slurm_file(files)"
   ]
  },
  {
   "cell_type": "markdown",
   "metadata": {},
   "source": [
    "### Read CRYSTAL output files"
   ]
  },
  {
   "cell_type": "code",
   "execution_count": null,
   "metadata": {},
   "outputs": [],
   "source": [
    "out_xyz = write_extxyz_from_crystal_output(\n",
    "    \"AlGaN_super3_12_7_0.out\",\n",
    "    output_path=\"AlGaN_super3_12_7_0.xyz\",\n",
    "    num_atoms=108,\n",
    "    config_type=\"geometry_optimisation\",\n",
    "    system_name=\"AlGaN_super3_12_7\",\n",
    "    comment=\"this=3 that=4\"\n",
    ")"
   ]
  },
  {
   "cell_type": "code",
   "execution_count": null,
   "metadata": {},
   "outputs": [],
   "source": [
    "with open('data/crystal/AlGaN/super3/output_files/AlGaN_super3_1_0_0.out', 'r') as f:\n",
    "    file_content = f.readlines()"
   ]
  },
  {
   "cell_type": "markdown",
   "metadata": {},
   "source": [
    "Example usage"
   ]
  },
  {
   "cell_type": "code",
   "execution_count": null,
   "metadata": {},
   "outputs": [],
   "source": [
    "\n",
    "# num_atoms = 108  \n",
    "# # Parse the file and extract structures with lattice matrix conversion\n",
    "# parsed_structures = parse_crystal_output(file_content, num_atoms)\n",
    "\n",
    "# # Convert to DataFrame for inspection\n",
    "# df_structures = pd.DataFrame(parsed_structures)\n",
    "\n",
    "# # Generate extended XYZ files\n",
    "# generate_extended_xyz_files_from_df(df_structures, 'data/crystal/AlGaN/super3/output_files/test')"
   ]
  },
  {
   "cell_type": "markdown",
   "metadata": {},
   "source": [
    "#### Write all the extxyz from all output files"
   ]
  },
  {
   "cell_type": "code",
   "execution_count": null,
   "metadata": {},
   "outputs": [],
   "source": [
    "# Write all the extxyz from all output files\n",
    "import os\n",
    "import numpy as np\n",
    "import pandas as pd\n",
    "\n",
    "# Folder containing the .out files\n",
    "# folder_path = \"data/crystal/AlGaN/super3/output_files\"\n",
    "# output_folder = \"data/crystal/AlGaN/super3/extxyz_files\"\n",
    "folder_path = \"data/crystal/AlGaN/pbe0/output_files\"\n",
    "output_folder = \"data/crystal/AlGaN/pbe0/extxyz_files\"\n",
    "os.makedirs(output_folder, exist_ok=True)  # Ensure the output folder exists\n",
    "\n",
    "# Loop over X values\n",
    "for X in np.arange(54):  # Adjust the range as needed\n",
    "    for Y in np.arange(10):  # Adjust the range as needed\n",
    "        # Global index for structures extracted for the current X and Y\n",
    "        global_index = 0\n",
    "        Z = 0\n",
    "\n",
    "        while True:\n",
    "            # Construct file path for the current Z\n",
    "            file_name = f\"AlGaN_super3_{X}_{Y}_{Z}.out\"\n",
    "            file_path = os.path.join(folder_path, file_name)\n",
    "\n",
    "            # Check if the file exists\n",
    "            if not os.path.exists(file_path):\n",
    "                break  # Exit the loop when no more Z files exist for this X_Y\n",
    "\n",
    "            # Read the file and process its content\n",
    "            with open(file_path, \"r\") as f:\n",
    "                file_content = f.readlines()\n",
    "\n",
    "            # Parse the file content\n",
    "            parsed_structures = parse_crystal_output(file_content, num_atoms=108)  # Replace 108 with your atom count\n",
    "\n",
    "            # Convert parsed structures to a DataFrame\n",
    "            df_structures = pd.DataFrame(parsed_structures)\n",
    "\n",
    "            # Save all extracted structures with unique global indices\n",
    "            for _, row in df_structures.iterrows():\n",
    "                # Generate the output file name with the incrementing global index\n",
    "                output_file = os.path.join(\n",
    "                    output_folder, f\"AlGaN_super3_{X}_{Y}_{global_index}.xyz\"\n",
    "                )\n",
    "\n",
    "                # Write the structure to an extended XYZ file\n",
    "                with open(output_file, \"w\") as out_f:\n",
    "                    # Write number of atoms\n",
    "                    num_atoms = len(row['cartesian_coordinates'])\n",
    "                    out_f.write(f\"{num_atoms}\\n\")\n",
    "\n",
    "                    # Write metadata\n",
    "                    lattice_flat = \" \".join(f\"{value:.12e}\" for value in row['lattice_matrix'].flatten())\n",
    "                    stress_flat = \" \".join(f\"{value:.12e}\" for value in np.array(row['stress']).flatten())\n",
    "                    out_f.write(\n",
    "                        f\"dft_energy={row['energy_ev']:.12e} \"\n",
    "                        f'Lattice=\"{lattice_flat}\" '\n",
    "                        f'dft_stress=\"{stress_flat}\" '\n",
    "                        f'Properties=species:S:1:pos:R:3:dft_forces:R:3 '\n",
    "                        f'config_type=random '\n",
    "                        # f'system_name={os.path.basename(output_file[:-4])}\\n'\n",
    "                        f'system_name=random\\n'\n",
    "                    )\n",
    "\n",
    "                    # Write atomic data\n",
    "                    for symbol, coord, force in zip(row['atomic_symbols'], row['cartesian_coordinates'], row['forces']):\n",
    "                        out_f.write(\n",
    "                            f\"{symbol} {coord[0]:.12e} {coord[1]:.12e} {coord[2]:.12e} \"\n",
    "                            f\"{force[0]:.12e} {force[1]:.12e} {force[2]:.12e}\\n\"\n",
    "                        )\n",
    "\n",
    "                # Increment the global index\n",
    "                global_index += 1\n",
    "\n",
    "            # Increment Z to process the next file\n",
    "            Z += 1"
   ]
  },
  {
   "cell_type": "markdown",
   "metadata": {},
   "source": [
    "Check for dusplicates"
   ]
  },
  {
   "cell_type": "code",
   "execution_count": null,
   "metadata": {},
   "outputs": [],
   "source": [
    "# Folder containing the .out files\n",
    "folder_path = \"data/crystal/AlGaN/pbe0/extxyz_files/\"\n",
    "\n",
    "# Example: Check for duplicates in AlGaN_super3_1_0_*\n",
    "x = 1\n",
    "y = 1\n",
    "pattern_prefix = f\"AlGaN_super3_{x}_{y}_\"\n",
    "duplicates = find_duplicate_files(folder_path, pattern_prefix)\n",
    "\n",
    "if duplicates:\n",
    "    print(\"Duplicate files found:\")\n",
    "    for file1, file2 in duplicates:\n",
    "        print(f\"{file1} and {file2}\")\n",
    "else:\n",
    "    print(\"No duplicate files found.\")"
   ]
  },
  {
   "cell_type": "markdown",
   "metadata": {},
   "source": [
    "#### Concatenate files"
   ]
  },
  {
   "cell_type": "code",
   "execution_count": null,
   "metadata": {},
   "outputs": [],
   "source": [
    "# Example usage\n",
    "input_folder = \"data/crystal/AlGaN/pbe0/extxyz_files\"\n",
    "output_file = \"data/crystal/AlGaN/pbe0/concatenated_files/AlGaN_super3_all.xyz\"\n",
    "concatenate_xyz_files(input_folder, output_file)"
   ]
  },
  {
   "cell_type": "markdown",
   "metadata": {},
   "source": [
    "### Read structures ASE\n",
    "\n",
    "The stress is rounded, change to full value from CRYSTAL"
   ]
  },
  {
   "cell_type": "code",
   "execution_count": null,
   "metadata": {},
   "outputs": [],
   "source": [
    "test_file = \"data/crystal/AlGaN/super3/concatenated_files/AlGaN_super3_all.xyz\"\n",
    "atoms = read(test_file, index=\":\")"
   ]
  },
  {
   "cell_type": "code",
   "execution_count": null,
   "metadata": {},
   "outputs": [],
   "source": [
    "\n",
    "# # Directory containing the extxyz files\n",
    "# directory = 'data/crystal/AlGaN/super3/extxyz_files/'\n",
    "\n",
    "# # List to store the atoms and stress tensors\n",
    "# atoms_list = []\n",
    "# stress_list = []\n",
    "\n",
    "# # Iterate over all files in the directory\n",
    "# for filename in os.listdir(directory):\n",
    "#     if filename.endswith('.xyz'):  # Only process .extxyz files\n",
    "#         file_path = os.path.join(directory, filename)\n",
    "        \n",
    "#         # Read the ASE atoms object\n",
    "#         atoms = read(file_path, format='extxyz')\n",
    "#         atoms_list.append(atoms)\n",
    "        \n",
    "#         # Extract the stress tensor if it exists\n",
    "#         stress_flat = atoms.info.get(\"Stress\")\n",
    "#         if stress_flat is not None:\n",
    "#             stress = stress_flat.reshape(3, 3)\n",
    "#             stress_list.append(stress)\n",
    "#         else:\n",
    "#             print(f\"No stress information found in {filename}\")\n",
    "#             stress_list.append(None)"
   ]
  },
  {
   "cell_type": "markdown",
   "metadata": {},
   "source": [
    "#### Test/Train split"
   ]
  },
  {
   "cell_type": "code",
   "execution_count": null,
   "metadata": {},
   "outputs": [],
   "source": [
    "# Convert lists to numpy arrays for easier indexing\n",
    "atoms_array = np.array(atoms_list, dtype=object)\n",
    "stress_array = np.array(stress_list, dtype=object)\n",
    "\n",
    "# Generate random indices for train-test split\n",
    "n_samples = len(atoms_array)\n",
    "test_size = 0.2\n",
    "n_test = int(n_samples * test_size)\n",
    "\n",
    "# Create a random permutation of indices\n",
    "indices = np.arange(n_samples)\n",
    "np.random.shuffle(indices)\n",
    "\n",
    "# Split indices for train and test sets\n",
    "test_indices = indices[:n_test]\n",
    "train_indices = indices[n_test:]\n",
    "\n",
    "# Split the data\n",
    "atoms_train = atoms_array[train_indices]\n",
    "atoms_test = atoms_array[test_indices]\n",
    "stress_train = stress_array[train_indices]\n",
    "stress_test = stress_array[test_indices]\n",
    "\n",
    "# Output information\n",
    "print(f\"Total structures: {n_samples}\")\n",
    "print(f\"Training set: {len(atoms_train)} structures\")\n",
    "print(f\"Testing set: {len(atoms_test)} structures\")"
   ]
  }
 ],
 "metadata": {
  "jupytext": {
   "cell_metadata_filter": "-all",
   "notebook_metadata_filter": "kernelspec,language_info"
  },
  "kernelspec": {
   "display_name": "mace_fto",
   "language": "python",
   "name": "python3"
  },
  "language_info": {
   "codemirror_mode": {
    "name": "ipython",
    "version": 3
   },
   "file_extension": ".py",
   "mimetype": "text/x-python",
   "name": "python",
   "nbconvert_exporter": "python",
   "pygments_lexer": "ipython3",
   "version": "3.11.13"
  }
 },
 "nbformat": 4,
 "nbformat_minor": 2
}
