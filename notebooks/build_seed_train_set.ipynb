{
 "cells": [
  {
   "cell_type": "markdown",
   "metadata": {},
   "source": [
    "# Build the seed train and test sets\n"
   ]
  },
  {
   "cell_type": "markdown",
   "metadata": {},
   "source": [
    "#### Families\n",
    "\n",
    "Initial seed name:\n",
    "\n",
    "AlGaN_333_K_F_e_r\n",
    "\n",
    "K = composition\n",
    "F = family\n",
    "e = expansion\n",
    "r = randomised displacements\n",
    "\n",
    "Folder structure:\n",
    "\n",
    "supercell_size\n",
    "    |\n",
    "    -- functional\n",
    "        |\n",
    "        -- family\n",
    "            |\n",
    "            -- optgeom\n",
    "            -- expansion\n",
    "            -- random dispalcements\n",
    "\n",
    "So we can select the F using random split and then select a subset of structures within that group."
   ]
  },
  {
   "cell_type": "code",
   "execution_count": null,
   "metadata": {},
   "outputs": [],
   "source": [
    "%load_ext autoreload\n",
    "%reload_ext autoreload\n",
    "%autoreload 2\n",
    "\n",
    "from pymatgen.core.structure import Structure\n",
    "from pymatgen.symmetry.analyzer import SpacegroupAnalyzer\n",
    "from pymatgen.io.ase import AseAtomsAdaptor\n",
    "from ase.io import read\n",
    "from ase.data import chemical_symbols\n",
    "import copy\n",
    "import numpy as np\n",
    "import pandas as pd\n",
    "from scipy.constants import physical_constants\n",
    "HARTREE_TO_EV = physical_constants['Hartree energy in eV'][0]\n",
    "BOHR_TO_ANGSTROM = physical_constants['Bohr radius'][0] * 1e10  # Convert meters to Ångstrom\n",
    "BOHR_CUBED_TO_ANGSTROM_CUBED = BOHR_TO_ANGSTROM**3\n",
    "\n",
    "import os\n",
    "import json\n",
    "import re\n",
    "import shutil as sh\n",
    "\n",
    "from janus_core.calculations.single_point import SinglePoint\n",
    "from janus_core.calculations.geom_opt import GeomOpt\n",
    "import sys\n",
    "sys.path.append('../src')   # add src/ to Python path\n",
    "from functions import *\n",
    "from structure_generation import *\n",
    "from helper_functions import *\n",
    "from crystal_helper_functions import *\n",
    "\n",
    "current_dir = os.path.dirname(os.path.abspath(\"__file__\"))\n",
    "sys.path.append(current_dir)\n",
    "\n",
    "def vview(structure):\n",
    "    from ase.visualize import view\n",
    "    from pymatgen.io.ase import AseAtomsAdaptor\n",
    "    \n",
    "    view(AseAtomsAdaptor().get_atoms(structure))"
   ]
  },
  {
   "cell_type": "markdown",
   "metadata": {},
   "source": [
    "### AlGaN - OPTIMISE STRUCTURES WITH CRYSTAL23"
   ]
  },
  {
   "cell_type": "code",
   "execution_count": null,
   "metadata": {},
   "outputs": [],
   "source": [
    "AlN_bulk_r2scan = Structure.from_file('../data/bulk_structures/AlN.cif')\n",
    "\n",
    "supercell_matrix = np.eye(3)*3\n",
    "\n",
    "AlN_333_r2scan = copy.deepcopy(AlN_bulk_r2scan)\n",
    "\n",
    "AlN_333_r2scan.make_supercell(supercell_matrix)\n",
    "\n",
    "AlN_333_r2scan.num_sites"
   ]
  },
  {
   "cell_type": "code",
   "execution_count": null,
   "metadata": {},
   "outputs": [],
   "source": [
    "# write_CRYSTAL_gui_from_data(AlN_bulk_crystal.lattice.matrix,AlN_bulk_crystal.atomic_numbers,AlN_bulk_crystal.cart_coords,'../data/bulk_structures/crystal/AlN.gui')"
   ]
  },
  {
   "cell_type": "code",
   "execution_count": null,
   "metadata": {},
   "outputs": [],
   "source": [
    "GaN_bulk_r2scan = Structure.from_file('../data/bulk_structures/GaN.cif')\n",
    "\n",
    "supercell_matrix = np.eye(3)*3\n",
    "\n",
    "GaN_333_r2scan = copy.deepcopy(GaN_bulk_r2scan)\n",
    "\n",
    "GaN_333_r2scan.make_supercell(supercell_matrix)\n",
    "\n",
    "GaN_333_r2scan.num_sites"
   ]
  },
  {
   "cell_type": "markdown",
   "metadata": {},
   "source": [
    "## Symmetry analysis"
   ]
  },
  {
   "cell_type": "code",
   "execution_count": null,
   "metadata": {},
   "outputs": [],
   "source": [
    "atom_indices_aln_333 = get_all_configurations_pmg(AlN_333_r2scan)\n",
    "np.savetxt('../data/symmetry/aln_333_indices.csv',atom_indices_aln_333,delimiter=',',fmt='%d')"
   ]
  },
  {
   "cell_type": "code",
   "execution_count": null,
   "metadata": {},
   "outputs": [],
   "source": [
    "atom_indices_aln = np.genfromtxt('../data/symmetry/aln_333_indices.csv',delimiter=',').astype('int')"
   ]
  },
  {
   "cell_type": "markdown",
   "metadata": {},
   "source": [
    "## Generate SIC random structures\n",
    "\n",
    "This saves the data into a json file, I'm not sure we need it."
   ]
  },
  {
   "cell_type": "code",
   "execution_count": null,
   "metadata": {},
   "outputs": [],
   "source": [
    "active_sites=np.where(np.array(AlN_333_r2scan.atomic_numbers) == 13)[0]\n",
    "num_active_sites=len(active_sites)\n",
    "\n",
    "N_atom = 31\n",
    "\n",
    "all_config_atom_number = {}\n",
    "\n",
    "for n,N_atoms in enumerate(np.arange(27,28)):\n",
    "\n",
    "    structures_random = generate_random_structures(AlN_333_r2scan,atom_indices=atom_indices_aln,\n",
    "                                                   N_atoms=N_atoms,new_species=31,N_config=500,\n",
    "                                                   DFT_config=20,active_sites=active_sites)\n",
    "\n",
    "    atom_number_tmp = []\n",
    "    for structure in structures_random:\n",
    "        atom_number_tmp.append(list(structure.atomic_numbers))\n",
    "\n",
    "    all_config_atom_number[str(N_atoms)] = atom_number_tmp\n",
    "\n",
    "# with open('data/supercell_structures/AlGaN/AlGaN_super3.json', 'w') as json_file:\n",
    "#     json.dump(all_config_atom_number, json_file)"
   ]
  },
  {
   "cell_type": "code",
   "execution_count": null,
   "metadata": {
    "lines_to_next_cell": 2
   },
   "outputs": [],
   "source": [
    "with open('data/supercell_structures/AlGaN/AlGaN_super3.json', 'r', encoding='utf-8') as json_file:\n",
    "    AlGaN_super3_all_config = json.load(json_file)"
   ]
  },
  {
   "cell_type": "code",
   "execution_count": null,
   "metadata": {},
   "outputs": [],
   "source": [
    "# Generate the Extended XYZ files\n",
    "\n",
    "lattice = AlN_333_r2scan.lattice.matrix\n",
    "positions = AlN_333_r2scan.frac_coords\n",
    "for N_atoms in AlGaN_super3_all_config.keys():\n",
    "    \n",
    "    folder_name = f'data/supercell_structures/AlGaN/AlGaN_super3_{N_atoms}'\n",
    "    if not os.path.exists(folder_name):\n",
    "        os.makedirs(folder_name)\n",
    "    \n",
    "    for i,config in enumerate(AlGaN_super3_all_config[N_atoms]):\n",
    "        structure = Structure(lattice,config,positions)\n",
    "\n",
    "        write_extended_xyz(structure,os.path.join(folder_name,f'AlGaN_super3_{N_atoms}_{i}.xyz'))"
   ]
  },
  {
   "cell_type": "markdown",
   "metadata": {},
   "source": [
    "## Write CRYSTAL input files"
   ]
  },
  {
   "cell_type": "code",
   "execution_count": null,
   "metadata": {},
   "outputs": [],
   "source": [
    "AlN_lattice_matrix = np.round(AlN_super3.lattice.matrix[0:3], 6)\n",
    "GaN_lattice_matrix = np.round(GaN_super3.lattice.matrix[0:3], 6)\n",
    "\n",
    "AlGaN_lattice_matrix = (AlN_lattice_matrix + GaN_lattice_matrix)/2"
   ]
  },
  {
   "cell_type": "code",
   "execution_count": null,
   "metadata": {
    "lines_to_next_cell": 2
   },
   "outputs": [],
   "source": [
    "from structure_generation import write_CRYSTAL_gui_from_data\n",
    "\n",
    "\n",
    "lattice_matrix = AlGaN_lattice_matrix\n",
    "cart_coords = np.round(AlN_super3.cart_coords,8)\n",
    "\n",
    "\n",
    "for N_atoms in AlGaN_super3_all_config.keys():\n",
    "    \n",
    "    for i,config in enumerate(AlGaN_super3_all_config[N_atoms]):\n",
    "\n",
    "        atomic_numbers = config\n",
    "\n",
    "        folder_name = f'data/crystal/AlGaN/super3/config_{i}/'\n",
    "        file_name = f'AlGaN_super3_{N_atoms}_{i}_0.gui'\n",
    "        full_name = os.path.join(folder_name,file_name)\n",
    "        if not os.path.exists(folder_name):\n",
    "            os.makedirs(folder_name)\n",
    "        \n",
    "        for i,config in enumerate(AlGaN_super3_all_config[N_atoms]):\n",
    "            structure = Structure(lattice_matrix,config,cart_coords)\n",
    "\n",
    "            write_CRYSTAL_gui_from_data(lattice_matrix,atomic_numbers,\n",
    "                                cart_coords, full_name, dimensionality = 3)"
   ]
  },
  {
   "cell_type": "code",
   "execution_count": null,
   "metadata": {},
   "outputs": [],
   "source": [
    "folder_path = 'data/crystal/AlGaN/super3/'\n",
    "\n",
    "folders = [name for name in os.listdir(folder_path) if os.path.isdir(os.path.join(folder_path, name))]\n",
    "\n",
    "for folder in folders:\n",
    "\n",
    "    folder_path_new = os.path.join(folder_path,folder)\n",
    "    slurm_file_name = os.path.join(folder_path_new,f'{folder}_0.slurm')\n",
    "    files = [name for name in os.listdir(folder_path_new) \n",
    "         if os.path.isfile(os.path.join(folder_path_new, name)) and name.endswith('.gui')]\n",
    "\n",
    "    # copy .d12\n",
    "    for file in files:\n",
    "        input_file = os.path.join(folder_path_new,f'{file[:-4]}.d12')\n",
    "        sh.copy('data/crystal/AlGaN/super3/super3_input.d12', input_file)\n",
    "\n",
    "    bash_script = generate_slurm_file(files)\n",
    "    with open(slurm_file_name, 'w') as file:\n",
    "        for line in bash_script:\n",
    "            file.write(f\"{line}\")\n",
    "\n"
   ]
  },
  {
   "cell_type": "code",
   "execution_count": null,
   "metadata": {},
   "outputs": [],
   "source": []
  },
  {
   "cell_type": "markdown",
   "metadata": {},
   "source": [
    "## Read CRYSTAL output files"
   ]
  },
  {
   "cell_type": "code",
   "execution_count": null,
   "metadata": {},
   "outputs": [],
   "source": [
    "with open('data/crystal/AlGaN/super3/output_files/AlGaN_super3_1_0_0.out', 'r') as f:\n",
    "    file_content = f.readlines()"
   ]
  },
  {
   "cell_type": "markdown",
   "metadata": {},
   "source": [
    "Example usage"
   ]
  },
  {
   "cell_type": "code",
   "execution_count": null,
   "metadata": {},
   "outputs": [],
   "source": [
    "\n",
    "# num_atoms = 108  \n",
    "# # Parse the file and extract structures with lattice matrix conversion\n",
    "# parsed_structures = parse_crystal_output(file_content, num_atoms)\n",
    "\n",
    "# # Convert to DataFrame for inspection\n",
    "# df_structures = pd.DataFrame(parsed_structures)\n",
    "\n",
    "# # Generate extended XYZ files\n",
    "# generate_extended_xyz_files_from_df(df_structures, 'data/crystal/AlGaN/super3/output_files/test')"
   ]
  },
  {
   "cell_type": "markdown",
   "metadata": {},
   "source": [
    "#### Write all the extxyz from all output files"
   ]
  },
  {
   "cell_type": "code",
   "execution_count": null,
   "metadata": {},
   "outputs": [],
   "source": [
    "# Write all the extxyz from all output files\n",
    "import os\n",
    "import numpy as np\n",
    "import pandas as pd\n",
    "\n",
    "# Folder containing the .out files\n",
    "# folder_path = \"data/crystal/AlGaN/super3/output_files\"\n",
    "# output_folder = \"data/crystal/AlGaN/super3/extxyz_files\"\n",
    "folder_path = \"data/crystal/AlGaN/pbe0/output_files\"\n",
    "output_folder = \"data/crystal/AlGaN/pbe0/extxyz_files\"\n",
    "os.makedirs(output_folder, exist_ok=True)  # Ensure the output folder exists\n",
    "\n",
    "# Loop over X values\n",
    "for X in np.arange(54):  # Adjust the range as needed\n",
    "    for Y in np.arange(10):  # Adjust the range as needed\n",
    "        # Global index for structures extracted for the current X and Y\n",
    "        global_index = 0\n",
    "        Z = 0\n",
    "\n",
    "        while True:\n",
    "            # Construct file path for the current Z\n",
    "            file_name = f\"AlGaN_super3_{X}_{Y}_{Z}.out\"\n",
    "            file_path = os.path.join(folder_path, file_name)\n",
    "\n",
    "            # Check if the file exists\n",
    "            if not os.path.exists(file_path):\n",
    "                break  # Exit the loop when no more Z files exist for this X_Y\n",
    "\n",
    "            # Read the file and process its content\n",
    "            with open(file_path, \"r\") as f:\n",
    "                file_content = f.readlines()\n",
    "\n",
    "            # Parse the file content\n",
    "            parsed_structures = parse_crystal_output(file_content, num_atoms=108)  # Replace 108 with your atom count\n",
    "\n",
    "            # Convert parsed structures to a DataFrame\n",
    "            df_structures = pd.DataFrame(parsed_structures)\n",
    "\n",
    "            # Save all extracted structures with unique global indices\n",
    "            for _, row in df_structures.iterrows():\n",
    "                # Generate the output file name with the incrementing global index\n",
    "                output_file = os.path.join(\n",
    "                    output_folder, f\"AlGaN_super3_{X}_{Y}_{global_index}.xyz\"\n",
    "                )\n",
    "\n",
    "                # Write the structure to an extended XYZ file\n",
    "                with open(output_file, \"w\") as out_f:\n",
    "                    # Write number of atoms\n",
    "                    num_atoms = len(row['cartesian_coordinates'])\n",
    "                    out_f.write(f\"{num_atoms}\\n\")\n",
    "\n",
    "                    # Write metadata\n",
    "                    lattice_flat = \" \".join(f\"{value:.12e}\" for value in row['lattice_matrix'].flatten())\n",
    "                    stress_flat = \" \".join(f\"{value:.12e}\" for value in np.array(row['stress']).flatten())\n",
    "                    out_f.write(\n",
    "                        f\"dft_energy={row['energy_ev']:.12e} \"\n",
    "                        f'Lattice=\"{lattice_flat}\" '\n",
    "                        f'dft_stress=\"{stress_flat}\" '\n",
    "                        f'Properties=species:S:1:pos:R:3:dft_forces:R:3 '\n",
    "                        f'config_type=random '\n",
    "                        # f'system_name={os.path.basename(output_file[:-4])}\\n'\n",
    "                        f'system_name=random\\n'\n",
    "                    )\n",
    "\n",
    "                    # Write atomic data\n",
    "                    for symbol, coord, force in zip(row['atomic_symbols'], row['cartesian_coordinates'], row['forces']):\n",
    "                        out_f.write(\n",
    "                            f\"{symbol} {coord[0]:.12e} {coord[1]:.12e} {coord[2]:.12e} \"\n",
    "                            f\"{force[0]:.12e} {force[1]:.12e} {force[2]:.12e}\\n\"\n",
    "                        )\n",
    "\n",
    "                # Increment the global index\n",
    "                global_index += 1\n",
    "\n",
    "            # Increment Z to process the next file\n",
    "            Z += 1"
   ]
  },
  {
   "cell_type": "markdown",
   "metadata": {},
   "source": [
    "Check for dusplicates"
   ]
  },
  {
   "cell_type": "code",
   "execution_count": null,
   "metadata": {},
   "outputs": [],
   "source": [
    "# Folder containing the .out files\n",
    "folder_path = \"data/crystal/AlGaN/pbe0/extxyz_files/\"\n",
    "\n",
    "# Example: Check for duplicates in AlGaN_super3_1_0_*\n",
    "x = 1\n",
    "y = 1\n",
    "pattern_prefix = f\"AlGaN_super3_{x}_{y}_\"\n",
    "duplicates = find_duplicate_files(folder_path, pattern_prefix)\n",
    "\n",
    "if duplicates:\n",
    "    print(\"Duplicate files found:\")\n",
    "    for file1, file2 in duplicates:\n",
    "        print(f\"{file1} and {file2}\")\n",
    "else:\n",
    "    print(\"No duplicate files found.\")"
   ]
  },
  {
   "cell_type": "markdown",
   "metadata": {},
   "source": [
    "#### Concatenate files"
   ]
  },
  {
   "cell_type": "code",
   "execution_count": null,
   "metadata": {},
   "outputs": [],
   "source": [
    "# Example usage\n",
    "input_folder = \"data/crystal/AlGaN/pbe0/extxyz_files\"\n",
    "output_file = \"data/crystal/AlGaN/pbe0/concatenated_files/AlGaN_super3_all.xyz\"\n",
    "concatenate_xyz_files(input_folder, output_file)"
   ]
  },
  {
   "cell_type": "markdown",
   "metadata": {},
   "source": [
    "### Read structures ASE\n",
    "\n",
    "The stress is rounded, change to full value from CRYSTAL"
   ]
  },
  {
   "cell_type": "code",
   "execution_count": null,
   "metadata": {},
   "outputs": [],
   "source": [
    "test_file = \"data/crystal/AlGaN/super3/concatenated_files/AlGaN_super3_all.xyz\"\n",
    "atoms = read(test_file, index=\":\")"
   ]
  },
  {
   "cell_type": "code",
   "execution_count": null,
   "metadata": {},
   "outputs": [],
   "source": [
    "\n",
    "# # Directory containing the extxyz files\n",
    "# directory = 'data/crystal/AlGaN/super3/extxyz_files/'\n",
    "\n",
    "# # List to store the atoms and stress tensors\n",
    "# atoms_list = []\n",
    "# stress_list = []\n",
    "\n",
    "# # Iterate over all files in the directory\n",
    "# for filename in os.listdir(directory):\n",
    "#     if filename.endswith('.xyz'):  # Only process .extxyz files\n",
    "#         file_path = os.path.join(directory, filename)\n",
    "        \n",
    "#         # Read the ASE atoms object\n",
    "#         atoms = read(file_path, format='extxyz')\n",
    "#         atoms_list.append(atoms)\n",
    "        \n",
    "#         # Extract the stress tensor if it exists\n",
    "#         stress_flat = atoms.info.get(\"Stress\")\n",
    "#         if stress_flat is not None:\n",
    "#             stress = stress_flat.reshape(3, 3)\n",
    "#             stress_list.append(stress)\n",
    "#         else:\n",
    "#             print(f\"No stress information found in {filename}\")\n",
    "#             stress_list.append(None)"
   ]
  },
  {
   "cell_type": "markdown",
   "metadata": {},
   "source": [
    "#### Test/Train split"
   ]
  },
  {
   "cell_type": "code",
   "execution_count": null,
   "metadata": {},
   "outputs": [],
   "source": [
    "# Convert lists to numpy arrays for easier indexing\n",
    "atoms_array = np.array(atoms_list, dtype=object)\n",
    "stress_array = np.array(stress_list, dtype=object)\n",
    "\n",
    "# Generate random indices for train-test split\n",
    "n_samples = len(atoms_array)\n",
    "test_size = 0.2\n",
    "n_test = int(n_samples * test_size)\n",
    "\n",
    "# Create a random permutation of indices\n",
    "indices = np.arange(n_samples)\n",
    "np.random.shuffle(indices)\n",
    "\n",
    "# Split indices for train and test sets\n",
    "test_indices = indices[:n_test]\n",
    "train_indices = indices[n_test:]\n",
    "\n",
    "# Split the data\n",
    "atoms_train = atoms_array[train_indices]\n",
    "atoms_test = atoms_array[test_indices]\n",
    "stress_train = stress_array[train_indices]\n",
    "stress_test = stress_array[test_indices]\n",
    "\n",
    "# Output information\n",
    "print(f\"Total structures: {n_samples}\")\n",
    "print(f\"Training set: {len(atoms_train)} structures\")\n",
    "print(f\"Testing set: {len(atoms_test)} structures\")"
   ]
  }
 ],
 "metadata": {
  "jupytext": {
   "cell_metadata_filter": "-all",
   "notebook_metadata_filter": "kernelspec,language_info"
  },
  "kernelspec": {
   "display_name": "mace_fto",
   "language": "python",
   "name": "python3"
  },
  "language_info": {
   "codemirror_mode": {
    "name": "ipython",
    "version": 3
   },
   "file_extension": ".py",
   "mimetype": "text/x-python",
   "name": "python",
   "nbconvert_exporter": "python",
   "pygments_lexer": "ipython3",
   "version": "3.11.13"
  }
 },
 "nbformat": 4,
 "nbformat_minor": 2
}
